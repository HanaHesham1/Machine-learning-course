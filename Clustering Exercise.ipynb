{
 "cells": [
  {
   "cell_type": "markdown",
   "metadata": {
    "id": "IcHSTWeQIOdi"
   },
   "source": [
    "## **Lab 2 - Clustering Exercise**\n",
    "\n",
    "In this exercise, we will apply our knowledge of clustering on the following dataset:\n",
    "\n",
    "Dataset Link:\n",
    "https://www.kaggle.com/datasets/arjunbhasin2013/ccdata\n",
    "\n",
    "Clustering on this dataset will be done using KMeans, Hierarchal clustering and DBSCAN. Finding the optimal hypermaters for each and then choosing the best model among the three"
   ]
  },
  {
   "cell_type": "markdown",
   "metadata": {
    "id": "6_cs23ezKtyk"
   },
   "source": [
    "Start by Importing needed libraries"
   ]
  },
  {
   "cell_type": "code",
   "execution_count": 3,
   "metadata": {
    "id": "bY4Uj2sLFOAC"
   },
   "outputs": [],
   "source": [
    "import pandas as pd\n",
    "import numpy as np\n",
    "import matplotlib.pyplot as plt\n",
    "import seaborn as sns"
   ]
  },
  {
   "cell_type": "markdown",
   "metadata": {
    "id": "dt7Ztir7Kxw7"
   },
   "source": [
    "Reading the dataset into a DataFrame"
   ]
  },
  {
   "cell_type": "code",
   "execution_count": 4,
   "metadata": {
    "id": "cRlD59_eK16r"
   },
   "outputs": [],
   "source": [
    "df = pd.read_csv('./dataset/CC GENERAL.csv')"
   ]
  },
  {
   "cell_type": "code",
   "execution_count": 5,
   "metadata": {
    "id": "OSfoccC2vMte"
   },
   "outputs": [
    {
     "data": {
      "application/vnd.microsoft.datawrangler.viewer.v0+json": {
       "columns": [
        {
         "name": "index",
         "rawType": "int64",
         "type": "integer"
        },
        {
         "name": "CUST_ID",
         "rawType": "object",
         "type": "string"
        },
        {
         "name": "BALANCE",
         "rawType": "float64",
         "type": "float"
        },
        {
         "name": "BALANCE_FREQUENCY",
         "rawType": "float64",
         "type": "float"
        },
        {
         "name": "PURCHASES",
         "rawType": "float64",
         "type": "float"
        },
        {
         "name": "ONEOFF_PURCHASES",
         "rawType": "float64",
         "type": "float"
        },
        {
         "name": "INSTALLMENTS_PURCHASES",
         "rawType": "float64",
         "type": "float"
        },
        {
         "name": "CASH_ADVANCE",
         "rawType": "float64",
         "type": "float"
        },
        {
         "name": "PURCHASES_FREQUENCY",
         "rawType": "float64",
         "type": "float"
        },
        {
         "name": "ONEOFF_PURCHASES_FREQUENCY",
         "rawType": "float64",
         "type": "float"
        },
        {
         "name": "PURCHASES_INSTALLMENTS_FREQUENCY",
         "rawType": "float64",
         "type": "float"
        },
        {
         "name": "CASH_ADVANCE_FREQUENCY",
         "rawType": "float64",
         "type": "float"
        },
        {
         "name": "CASH_ADVANCE_TRX",
         "rawType": "int64",
         "type": "integer"
        },
        {
         "name": "PURCHASES_TRX",
         "rawType": "int64",
         "type": "integer"
        },
        {
         "name": "CREDIT_LIMIT",
         "rawType": "float64",
         "type": "float"
        },
        {
         "name": "PAYMENTS",
         "rawType": "float64",
         "type": "float"
        },
        {
         "name": "MINIMUM_PAYMENTS",
         "rawType": "float64",
         "type": "float"
        },
        {
         "name": "PRC_FULL_PAYMENT",
         "rawType": "float64",
         "type": "float"
        },
        {
         "name": "TENURE",
         "rawType": "int64",
         "type": "integer"
        }
       ],
       "conversionMethod": "pd.DataFrame",
       "ref": "0e400088-cb4c-4fbf-aeac-66b019d8c276",
       "rows": [
        [
         "0",
         "C10001",
         "40.900749",
         "0.818182",
         "95.4",
         "0.0",
         "95.4",
         "0.0",
         "0.166667",
         "0.0",
         "0.083333",
         "0.0",
         "0",
         "2",
         "1000.0",
         "201.802084",
         "139.509787",
         "0.0",
         "12"
        ],
        [
         "1",
         "C10002",
         "3202.467416",
         "0.909091",
         "0.0",
         "0.0",
         "0.0",
         "6442.945483",
         "0.0",
         "0.0",
         "0.0",
         "0.25",
         "4",
         "0",
         "7000.0",
         "4103.032597",
         "1072.340217",
         "0.222222",
         "12"
        ],
        [
         "2",
         "C10003",
         "2495.148862",
         "1.0",
         "773.17",
         "773.17",
         "0.0",
         "0.0",
         "1.0",
         "1.0",
         "0.0",
         "0.0",
         "0",
         "12",
         "7500.0",
         "622.066742",
         "627.284787",
         "0.0",
         "12"
        ],
        [
         "3",
         "C10004",
         "1666.670542",
         "0.636364",
         "1499.0",
         "1499.0",
         "0.0",
         "205.788017",
         "0.083333",
         "0.083333",
         "0.0",
         "0.083333",
         "1",
         "1",
         "7500.0",
         "0.0",
         null,
         "0.0",
         "12"
        ],
        [
         "4",
         "C10005",
         "817.714335",
         "1.0",
         "16.0",
         "16.0",
         "0.0",
         "0.0",
         "0.083333",
         "0.083333",
         "0.0",
         "0.0",
         "0",
         "1",
         "1200.0",
         "678.334763",
         "244.791237",
         "0.0",
         "12"
        ]
       ],
       "shape": {
        "columns": 18,
        "rows": 5
       }
      },
      "text/html": [
       "<div>\n",
       "<style scoped>\n",
       "    .dataframe tbody tr th:only-of-type {\n",
       "        vertical-align: middle;\n",
       "    }\n",
       "\n",
       "    .dataframe tbody tr th {\n",
       "        vertical-align: top;\n",
       "    }\n",
       "\n",
       "    .dataframe thead th {\n",
       "        text-align: right;\n",
       "    }\n",
       "</style>\n",
       "<table border=\"1\" class=\"dataframe\">\n",
       "  <thead>\n",
       "    <tr style=\"text-align: right;\">\n",
       "      <th></th>\n",
       "      <th>CUST_ID</th>\n",
       "      <th>BALANCE</th>\n",
       "      <th>BALANCE_FREQUENCY</th>\n",
       "      <th>PURCHASES</th>\n",
       "      <th>ONEOFF_PURCHASES</th>\n",
       "      <th>INSTALLMENTS_PURCHASES</th>\n",
       "      <th>CASH_ADVANCE</th>\n",
       "      <th>PURCHASES_FREQUENCY</th>\n",
       "      <th>ONEOFF_PURCHASES_FREQUENCY</th>\n",
       "      <th>PURCHASES_INSTALLMENTS_FREQUENCY</th>\n",
       "      <th>CASH_ADVANCE_FREQUENCY</th>\n",
       "      <th>CASH_ADVANCE_TRX</th>\n",
       "      <th>PURCHASES_TRX</th>\n",
       "      <th>CREDIT_LIMIT</th>\n",
       "      <th>PAYMENTS</th>\n",
       "      <th>MINIMUM_PAYMENTS</th>\n",
       "      <th>PRC_FULL_PAYMENT</th>\n",
       "      <th>TENURE</th>\n",
       "    </tr>\n",
       "  </thead>\n",
       "  <tbody>\n",
       "    <tr>\n",
       "      <th>0</th>\n",
       "      <td>C10001</td>\n",
       "      <td>40.900749</td>\n",
       "      <td>0.818182</td>\n",
       "      <td>95.40</td>\n",
       "      <td>0.00</td>\n",
       "      <td>95.4</td>\n",
       "      <td>0.000000</td>\n",
       "      <td>0.166667</td>\n",
       "      <td>0.000000</td>\n",
       "      <td>0.083333</td>\n",
       "      <td>0.000000</td>\n",
       "      <td>0</td>\n",
       "      <td>2</td>\n",
       "      <td>1000.0</td>\n",
       "      <td>201.802084</td>\n",
       "      <td>139.509787</td>\n",
       "      <td>0.000000</td>\n",
       "      <td>12</td>\n",
       "    </tr>\n",
       "    <tr>\n",
       "      <th>1</th>\n",
       "      <td>C10002</td>\n",
       "      <td>3202.467416</td>\n",
       "      <td>0.909091</td>\n",
       "      <td>0.00</td>\n",
       "      <td>0.00</td>\n",
       "      <td>0.0</td>\n",
       "      <td>6442.945483</td>\n",
       "      <td>0.000000</td>\n",
       "      <td>0.000000</td>\n",
       "      <td>0.000000</td>\n",
       "      <td>0.250000</td>\n",
       "      <td>4</td>\n",
       "      <td>0</td>\n",
       "      <td>7000.0</td>\n",
       "      <td>4103.032597</td>\n",
       "      <td>1072.340217</td>\n",
       "      <td>0.222222</td>\n",
       "      <td>12</td>\n",
       "    </tr>\n",
       "    <tr>\n",
       "      <th>2</th>\n",
       "      <td>C10003</td>\n",
       "      <td>2495.148862</td>\n",
       "      <td>1.000000</td>\n",
       "      <td>773.17</td>\n",
       "      <td>773.17</td>\n",
       "      <td>0.0</td>\n",
       "      <td>0.000000</td>\n",
       "      <td>1.000000</td>\n",
       "      <td>1.000000</td>\n",
       "      <td>0.000000</td>\n",
       "      <td>0.000000</td>\n",
       "      <td>0</td>\n",
       "      <td>12</td>\n",
       "      <td>7500.0</td>\n",
       "      <td>622.066742</td>\n",
       "      <td>627.284787</td>\n",
       "      <td>0.000000</td>\n",
       "      <td>12</td>\n",
       "    </tr>\n",
       "    <tr>\n",
       "      <th>3</th>\n",
       "      <td>C10004</td>\n",
       "      <td>1666.670542</td>\n",
       "      <td>0.636364</td>\n",
       "      <td>1499.00</td>\n",
       "      <td>1499.00</td>\n",
       "      <td>0.0</td>\n",
       "      <td>205.788017</td>\n",
       "      <td>0.083333</td>\n",
       "      <td>0.083333</td>\n",
       "      <td>0.000000</td>\n",
       "      <td>0.083333</td>\n",
       "      <td>1</td>\n",
       "      <td>1</td>\n",
       "      <td>7500.0</td>\n",
       "      <td>0.000000</td>\n",
       "      <td>NaN</td>\n",
       "      <td>0.000000</td>\n",
       "      <td>12</td>\n",
       "    </tr>\n",
       "    <tr>\n",
       "      <th>4</th>\n",
       "      <td>C10005</td>\n",
       "      <td>817.714335</td>\n",
       "      <td>1.000000</td>\n",
       "      <td>16.00</td>\n",
       "      <td>16.00</td>\n",
       "      <td>0.0</td>\n",
       "      <td>0.000000</td>\n",
       "      <td>0.083333</td>\n",
       "      <td>0.083333</td>\n",
       "      <td>0.000000</td>\n",
       "      <td>0.000000</td>\n",
       "      <td>0</td>\n",
       "      <td>1</td>\n",
       "      <td>1200.0</td>\n",
       "      <td>678.334763</td>\n",
       "      <td>244.791237</td>\n",
       "      <td>0.000000</td>\n",
       "      <td>12</td>\n",
       "    </tr>\n",
       "  </tbody>\n",
       "</table>\n",
       "</div>"
      ],
      "text/plain": [
       "  CUST_ID      BALANCE  BALANCE_FREQUENCY  PURCHASES  ONEOFF_PURCHASES  \\\n",
       "0  C10001    40.900749           0.818182      95.40              0.00   \n",
       "1  C10002  3202.467416           0.909091       0.00              0.00   \n",
       "2  C10003  2495.148862           1.000000     773.17            773.17   \n",
       "3  C10004  1666.670542           0.636364    1499.00           1499.00   \n",
       "4  C10005   817.714335           1.000000      16.00             16.00   \n",
       "\n",
       "   INSTALLMENTS_PURCHASES  CASH_ADVANCE  PURCHASES_FREQUENCY  \\\n",
       "0                    95.4      0.000000             0.166667   \n",
       "1                     0.0   6442.945483             0.000000   \n",
       "2                     0.0      0.000000             1.000000   \n",
       "3                     0.0    205.788017             0.083333   \n",
       "4                     0.0      0.000000             0.083333   \n",
       "\n",
       "   ONEOFF_PURCHASES_FREQUENCY  PURCHASES_INSTALLMENTS_FREQUENCY  \\\n",
       "0                    0.000000                          0.083333   \n",
       "1                    0.000000                          0.000000   \n",
       "2                    1.000000                          0.000000   \n",
       "3                    0.083333                          0.000000   \n",
       "4                    0.083333                          0.000000   \n",
       "\n",
       "   CASH_ADVANCE_FREQUENCY  CASH_ADVANCE_TRX  PURCHASES_TRX  CREDIT_LIMIT  \\\n",
       "0                0.000000                 0              2        1000.0   \n",
       "1                0.250000                 4              0        7000.0   \n",
       "2                0.000000                 0             12        7500.0   \n",
       "3                0.083333                 1              1        7500.0   \n",
       "4                0.000000                 0              1        1200.0   \n",
       "\n",
       "      PAYMENTS  MINIMUM_PAYMENTS  PRC_FULL_PAYMENT  TENURE  \n",
       "0   201.802084        139.509787          0.000000      12  \n",
       "1  4103.032597       1072.340217          0.222222      12  \n",
       "2   622.066742        627.284787          0.000000      12  \n",
       "3     0.000000               NaN          0.000000      12  \n",
       "4   678.334763        244.791237          0.000000      12  "
      ]
     },
     "execution_count": 5,
     "metadata": {},
     "output_type": "execute_result"
    }
   ],
   "source": [
    "df.head()"
   ]
  },
  {
   "cell_type": "code",
   "execution_count": 6,
   "metadata": {
    "id": "oGwiSujIvM8e"
   },
   "outputs": [],
   "source": [
    "df = df.fillna(0)"
   ]
  },
  {
   "cell_type": "code",
   "execution_count": 7,
   "metadata": {
    "id": "WV6mQyACvNbO"
   },
   "outputs": [
    {
     "data": {
      "application/vnd.microsoft.datawrangler.viewer.v0+json": {
       "columns": [
        {
         "name": "index",
         "rawType": "int64",
         "type": "integer"
        },
        {
         "name": "CUST_ID",
         "rawType": "object",
         "type": "string"
        },
        {
         "name": "BALANCE",
         "rawType": "float64",
         "type": "float"
        },
        {
         "name": "BALANCE_FREQUENCY",
         "rawType": "float64",
         "type": "float"
        },
        {
         "name": "PURCHASES",
         "rawType": "float64",
         "type": "float"
        },
        {
         "name": "ONEOFF_PURCHASES",
         "rawType": "float64",
         "type": "float"
        },
        {
         "name": "INSTALLMENTS_PURCHASES",
         "rawType": "float64",
         "type": "float"
        },
        {
         "name": "CASH_ADVANCE",
         "rawType": "float64",
         "type": "float"
        },
        {
         "name": "PURCHASES_FREQUENCY",
         "rawType": "float64",
         "type": "float"
        },
        {
         "name": "ONEOFF_PURCHASES_FREQUENCY",
         "rawType": "float64",
         "type": "float"
        },
        {
         "name": "PURCHASES_INSTALLMENTS_FREQUENCY",
         "rawType": "float64",
         "type": "float"
        },
        {
         "name": "CASH_ADVANCE_FREQUENCY",
         "rawType": "float64",
         "type": "float"
        },
        {
         "name": "CASH_ADVANCE_TRX",
         "rawType": "int64",
         "type": "integer"
        },
        {
         "name": "PURCHASES_TRX",
         "rawType": "int64",
         "type": "integer"
        },
        {
         "name": "CREDIT_LIMIT",
         "rawType": "float64",
         "type": "float"
        },
        {
         "name": "PAYMENTS",
         "rawType": "float64",
         "type": "float"
        },
        {
         "name": "MINIMUM_PAYMENTS",
         "rawType": "float64",
         "type": "float"
        },
        {
         "name": "PRC_FULL_PAYMENT",
         "rawType": "float64",
         "type": "float"
        },
        {
         "name": "TENURE",
         "rawType": "int64",
         "type": "integer"
        }
       ],
       "conversionMethod": "pd.DataFrame",
       "ref": "360ca0d2-5950-40d7-95f7-b3bbe40c4b38",
       "rows": [
        [
         "0",
         "C10001",
         "40.900749",
         "0.818182",
         "95.4",
         "0.0",
         "95.4",
         "0.0",
         "0.166667",
         "0.0",
         "0.083333",
         "0.0",
         "0",
         "2",
         "1000.0",
         "201.802084",
         "139.509787",
         "0.0",
         "12"
        ],
        [
         "1",
         "C10002",
         "3202.467416",
         "0.909091",
         "0.0",
         "0.0",
         "0.0",
         "6442.945483",
         "0.0",
         "0.0",
         "0.0",
         "0.25",
         "4",
         "0",
         "7000.0",
         "4103.032597",
         "1072.340217",
         "0.222222",
         "12"
        ],
        [
         "2",
         "C10003",
         "2495.148862",
         "1.0",
         "773.17",
         "773.17",
         "0.0",
         "0.0",
         "1.0",
         "1.0",
         "0.0",
         "0.0",
         "0",
         "12",
         "7500.0",
         "622.066742",
         "627.284787",
         "0.0",
         "12"
        ],
        [
         "3",
         "C10004",
         "1666.670542",
         "0.636364",
         "1499.0",
         "1499.0",
         "0.0",
         "205.788017",
         "0.083333",
         "0.083333",
         "0.0",
         "0.083333",
         "1",
         "1",
         "7500.0",
         "0.0",
         "0.0",
         "0.0",
         "12"
        ],
        [
         "4",
         "C10005",
         "817.714335",
         "1.0",
         "16.0",
         "16.0",
         "0.0",
         "0.0",
         "0.083333",
         "0.083333",
         "0.0",
         "0.0",
         "0",
         "1",
         "1200.0",
         "678.334763",
         "244.791237",
         "0.0",
         "12"
        ]
       ],
       "shape": {
        "columns": 18,
        "rows": 5
       }
      },
      "text/html": [
       "<div>\n",
       "<style scoped>\n",
       "    .dataframe tbody tr th:only-of-type {\n",
       "        vertical-align: middle;\n",
       "    }\n",
       "\n",
       "    .dataframe tbody tr th {\n",
       "        vertical-align: top;\n",
       "    }\n",
       "\n",
       "    .dataframe thead th {\n",
       "        text-align: right;\n",
       "    }\n",
       "</style>\n",
       "<table border=\"1\" class=\"dataframe\">\n",
       "  <thead>\n",
       "    <tr style=\"text-align: right;\">\n",
       "      <th></th>\n",
       "      <th>CUST_ID</th>\n",
       "      <th>BALANCE</th>\n",
       "      <th>BALANCE_FREQUENCY</th>\n",
       "      <th>PURCHASES</th>\n",
       "      <th>ONEOFF_PURCHASES</th>\n",
       "      <th>INSTALLMENTS_PURCHASES</th>\n",
       "      <th>CASH_ADVANCE</th>\n",
       "      <th>PURCHASES_FREQUENCY</th>\n",
       "      <th>ONEOFF_PURCHASES_FREQUENCY</th>\n",
       "      <th>PURCHASES_INSTALLMENTS_FREQUENCY</th>\n",
       "      <th>CASH_ADVANCE_FREQUENCY</th>\n",
       "      <th>CASH_ADVANCE_TRX</th>\n",
       "      <th>PURCHASES_TRX</th>\n",
       "      <th>CREDIT_LIMIT</th>\n",
       "      <th>PAYMENTS</th>\n",
       "      <th>MINIMUM_PAYMENTS</th>\n",
       "      <th>PRC_FULL_PAYMENT</th>\n",
       "      <th>TENURE</th>\n",
       "    </tr>\n",
       "  </thead>\n",
       "  <tbody>\n",
       "    <tr>\n",
       "      <th>0</th>\n",
       "      <td>C10001</td>\n",
       "      <td>40.900749</td>\n",
       "      <td>0.818182</td>\n",
       "      <td>95.40</td>\n",
       "      <td>0.00</td>\n",
       "      <td>95.4</td>\n",
       "      <td>0.000000</td>\n",
       "      <td>0.166667</td>\n",
       "      <td>0.000000</td>\n",
       "      <td>0.083333</td>\n",
       "      <td>0.000000</td>\n",
       "      <td>0</td>\n",
       "      <td>2</td>\n",
       "      <td>1000.0</td>\n",
       "      <td>201.802084</td>\n",
       "      <td>139.509787</td>\n",
       "      <td>0.000000</td>\n",
       "      <td>12</td>\n",
       "    </tr>\n",
       "    <tr>\n",
       "      <th>1</th>\n",
       "      <td>C10002</td>\n",
       "      <td>3202.467416</td>\n",
       "      <td>0.909091</td>\n",
       "      <td>0.00</td>\n",
       "      <td>0.00</td>\n",
       "      <td>0.0</td>\n",
       "      <td>6442.945483</td>\n",
       "      <td>0.000000</td>\n",
       "      <td>0.000000</td>\n",
       "      <td>0.000000</td>\n",
       "      <td>0.250000</td>\n",
       "      <td>4</td>\n",
       "      <td>0</td>\n",
       "      <td>7000.0</td>\n",
       "      <td>4103.032597</td>\n",
       "      <td>1072.340217</td>\n",
       "      <td>0.222222</td>\n",
       "      <td>12</td>\n",
       "    </tr>\n",
       "    <tr>\n",
       "      <th>2</th>\n",
       "      <td>C10003</td>\n",
       "      <td>2495.148862</td>\n",
       "      <td>1.000000</td>\n",
       "      <td>773.17</td>\n",
       "      <td>773.17</td>\n",
       "      <td>0.0</td>\n",
       "      <td>0.000000</td>\n",
       "      <td>1.000000</td>\n",
       "      <td>1.000000</td>\n",
       "      <td>0.000000</td>\n",
       "      <td>0.000000</td>\n",
       "      <td>0</td>\n",
       "      <td>12</td>\n",
       "      <td>7500.0</td>\n",
       "      <td>622.066742</td>\n",
       "      <td>627.284787</td>\n",
       "      <td>0.000000</td>\n",
       "      <td>12</td>\n",
       "    </tr>\n",
       "    <tr>\n",
       "      <th>3</th>\n",
       "      <td>C10004</td>\n",
       "      <td>1666.670542</td>\n",
       "      <td>0.636364</td>\n",
       "      <td>1499.00</td>\n",
       "      <td>1499.00</td>\n",
       "      <td>0.0</td>\n",
       "      <td>205.788017</td>\n",
       "      <td>0.083333</td>\n",
       "      <td>0.083333</td>\n",
       "      <td>0.000000</td>\n",
       "      <td>0.083333</td>\n",
       "      <td>1</td>\n",
       "      <td>1</td>\n",
       "      <td>7500.0</td>\n",
       "      <td>0.000000</td>\n",
       "      <td>0.000000</td>\n",
       "      <td>0.000000</td>\n",
       "      <td>12</td>\n",
       "    </tr>\n",
       "    <tr>\n",
       "      <th>4</th>\n",
       "      <td>C10005</td>\n",
       "      <td>817.714335</td>\n",
       "      <td>1.000000</td>\n",
       "      <td>16.00</td>\n",
       "      <td>16.00</td>\n",
       "      <td>0.0</td>\n",
       "      <td>0.000000</td>\n",
       "      <td>0.083333</td>\n",
       "      <td>0.083333</td>\n",
       "      <td>0.000000</td>\n",
       "      <td>0.000000</td>\n",
       "      <td>0</td>\n",
       "      <td>1</td>\n",
       "      <td>1200.0</td>\n",
       "      <td>678.334763</td>\n",
       "      <td>244.791237</td>\n",
       "      <td>0.000000</td>\n",
       "      <td>12</td>\n",
       "    </tr>\n",
       "  </tbody>\n",
       "</table>\n",
       "</div>"
      ],
      "text/plain": [
       "  CUST_ID      BALANCE  BALANCE_FREQUENCY  PURCHASES  ONEOFF_PURCHASES  \\\n",
       "0  C10001    40.900749           0.818182      95.40              0.00   \n",
       "1  C10002  3202.467416           0.909091       0.00              0.00   \n",
       "2  C10003  2495.148862           1.000000     773.17            773.17   \n",
       "3  C10004  1666.670542           0.636364    1499.00           1499.00   \n",
       "4  C10005   817.714335           1.000000      16.00             16.00   \n",
       "\n",
       "   INSTALLMENTS_PURCHASES  CASH_ADVANCE  PURCHASES_FREQUENCY  \\\n",
       "0                    95.4      0.000000             0.166667   \n",
       "1                     0.0   6442.945483             0.000000   \n",
       "2                     0.0      0.000000             1.000000   \n",
       "3                     0.0    205.788017             0.083333   \n",
       "4                     0.0      0.000000             0.083333   \n",
       "\n",
       "   ONEOFF_PURCHASES_FREQUENCY  PURCHASES_INSTALLMENTS_FREQUENCY  \\\n",
       "0                    0.000000                          0.083333   \n",
       "1                    0.000000                          0.000000   \n",
       "2                    1.000000                          0.000000   \n",
       "3                    0.083333                          0.000000   \n",
       "4                    0.083333                          0.000000   \n",
       "\n",
       "   CASH_ADVANCE_FREQUENCY  CASH_ADVANCE_TRX  PURCHASES_TRX  CREDIT_LIMIT  \\\n",
       "0                0.000000                 0              2        1000.0   \n",
       "1                0.250000                 4              0        7000.0   \n",
       "2                0.000000                 0             12        7500.0   \n",
       "3                0.083333                 1              1        7500.0   \n",
       "4                0.000000                 0              1        1200.0   \n",
       "\n",
       "      PAYMENTS  MINIMUM_PAYMENTS  PRC_FULL_PAYMENT  TENURE  \n",
       "0   201.802084        139.509787          0.000000      12  \n",
       "1  4103.032597       1072.340217          0.222222      12  \n",
       "2   622.066742        627.284787          0.000000      12  \n",
       "3     0.000000          0.000000          0.000000      12  \n",
       "4   678.334763        244.791237          0.000000      12  "
      ]
     },
     "execution_count": 7,
     "metadata": {},
     "output_type": "execute_result"
    }
   ],
   "source": [
    "df.head()"
   ]
  },
  {
   "cell_type": "code",
   "execution_count": 8,
   "metadata": {
    "id": "uBCQXl6Av3fG"
   },
   "outputs": [],
   "source": [
    "df = pd.get_dummies(df)"
   ]
  },
  {
   "cell_type": "code",
   "execution_count": 9,
   "metadata": {
    "id": "jVslYPciv96F"
   },
   "outputs": [],
   "source": [
    "from sklearn.preprocessing import StandardScaler\n",
    "scaler = StandardScaler()\n",
    "scaled_df = scaler.fit_transform(df)"
   ]
  },
  {
   "cell_type": "code",
   "execution_count": 10,
   "metadata": {},
   "outputs": [
    {
     "name": "stdout",
     "output_type": "stream",
     "text": [
      "<class 'pandas.core.frame.DataFrame'>\n",
      "RangeIndex: 8950 entries, 0 to 8949\n",
      "Columns: 8967 entries, BALANCE to CUST_ID_C19190\n",
      "dtypes: bool(8950), float64(14), int64(3)\n",
      "memory usage: 77.6 MB\n"
     ]
    }
   ],
   "source": [
    "df.info()"
   ]
  },
  {
   "cell_type": "markdown",
   "metadata": {},
   "source": [
    "## K-Means"
   ]
  },
  {
   "cell_type": "markdown",
   "metadata": {
    "id": "JSPz4WUgK2Xr"
   },
   "source": [
    "Find the optimal Kmeans model"
   ]
  },
  {
   "cell_type": "code",
   "execution_count": 11,
   "metadata": {
    "id": "lq2tpMbIK8OS"
   },
   "outputs": [],
   "source": [
    "from sklearn.cluster import KMeans"
   ]
  },
  {
   "cell_type": "code",
   "execution_count": 12,
   "metadata": {},
   "outputs": [],
   "source": [
    "model = KMeans(n_clusters=2)\n",
    "cluster_labels = model.fit_predict(scaled_df)"
   ]
  },
  {
   "cell_type": "code",
   "execution_count": 13,
   "metadata": {},
   "outputs": [
    {
     "data": {
      "text/plain": [
       "8950"
      ]
     },
     "execution_count": 13,
     "metadata": {},
     "output_type": "execute_result"
    }
   ],
   "source": [
    "len(scaled_df)"
   ]
  },
  {
   "cell_type": "code",
   "execution_count": 14,
   "metadata": {},
   "outputs": [],
   "source": [
    "df['Cluster'] = cluster_labels"
   ]
  },
  {
   "cell_type": "markdown",
   "metadata": {
    "id": "gkHH0oQDw1wj"
   },
   "source": [
    "Choose the optimal K and calculate the silhouette score for the best model."
   ]
  },
  {
   "cell_type": "code",
   "execution_count": 15,
   "metadata": {
    "id": "W_Dgn3ukwnw8"
   },
   "outputs": [
    {
     "data": {
      "text/plain": [
       "Text(0, 0.5, ' Sum of Squared Distances')"
      ]
     },
     "execution_count": 15,
     "metadata": {},
     "output_type": "execute_result"
    },
    {
     "data": {
      "image/png": "[encoded data removed]",
      "text/plain": [
       "<Figure size 640x480 with 1 Axes>"
      ]
     },
     "metadata": {},
     "output_type": "display_data"
    }
   ],
   "source": [
    "ssd = []\n",
    "\n",
    "for k in range(2,10):\n",
    "    \n",
    "    model = KMeans(n_clusters=k)\n",
    "    \n",
    "    \n",
    "    model.fit(scaled_df)\n",
    "    \n",
    "    #Sum of squared distances of samples to their closest cluster center.\n",
    "    ssd.append(model.inertia_)\n",
    "plt.plot(range(2,10),ssd,'o--')\n",
    "plt.xlabel(\"K Value\")\n",
    "plt.ylabel(\" Sum of Squared Distances\")"
   ]
  },
  {
   "cell_type": "code",
   "execution_count": 16,
   "metadata": {},
   "outputs": [
    {
     "data": {
      "text/plain": [
       "0             NaN\n",
       "1   -17207.837681\n",
       "2   -22945.669998\n",
       "3   -16720.370324\n",
       "4    -6517.497779\n",
       "5   -19294.909397\n",
       "6   -10111.158463\n",
       "7   -17624.137323\n",
       "dtype: float64"
      ]
     },
     "execution_count": 16,
     "metadata": {},
     "output_type": "execute_result"
    }
   ],
   "source": [
    "pd.Series(ssd).diff()"
   ]
  },
  {
   "cell_type": "code",
   "execution_count": 17,
   "metadata": {},
   "outputs": [
    {
     "data": {
      "text/plain": [
       "<Axes: >"
      ]
     },
     "execution_count": 17,
     "metadata": {},
     "output_type": "execute_result"
    },
    {
     "data": {
      "image/png": "[encoded data removed]",
      "text/plain": [
       "<Figure size 640x480 with 1 Axes>"
      ]
     },
     "metadata": {},
     "output_type": "display_data"
    }
   ],
   "source": [
    "pd.Series(ssd).diff().plot(kind='bar')"
   ]
  },
  {
   "cell_type": "code",
   "execution_count": 18,
   "metadata": {},
   "outputs": [
    {
     "data": {
      "text/plain": [
       "Text(0, 0.5, ' Silloutte Distances')"
      ]
     },
     "execution_count": 18,
     "metadata": {},
     "output_type": "execute_result"
    },
    {
     "data": {
      "image/png": "[encoded data removed]",
      "text/plain": [
       "<Figure size 640x480 with 1 Axes>"
      ]
     },
     "metadata": {},
     "output_type": "display_data"
    }
   ],
   "source": [
    "from sklearn.metrics import silhouette_score\n",
    "s=[]\n",
    "for k in range(2,10):\n",
    "    \n",
    "    model = KMeans(n_clusters=k)\n",
    "    \n",
    "    \n",
    "    model.fit(scaled_df)\n",
    "    \n",
    "    #Sum of squared distances of samples to their closest cluster center.\n",
    "    silhouette=silhouette_score(df,model.labels_)#,metric='euclidean')\n",
    "    s.append(silhouette)\n",
    "plt.plot(range(2,10),s,'o--')\n",
    "plt.xlabel(\"K Value\")\n",
    "plt.ylabel(\" Silloutte Distances\")\n",
    "\n",
    "\n"
   ]
  },
  {
   "cell_type": "markdown",
   "metadata": {},
   "source": [
    "## Agglomerative Clustering"
   ]
  },
  {
   "cell_type": "markdown",
   "metadata": {
    "id": "_lMAe85vK8wb"
   },
   "source": [
    "Find the optimal agglomerative clustering model."
   ]
  },
  {
   "cell_type": "code",
   "execution_count": 19,
   "metadata": {
    "id": "Va9X5U1ULAqC"
   },
   "outputs": [],
   "source": [
    "from sklearn.cluster import AgglomerativeClustering\n",
    "from sklearn.metrics import silhouette_score"
   ]
  },
  {
   "cell_type": "code",
   "execution_count": 20,
   "metadata": {},
   "outputs": [],
   "source": [
    "s=[]\n",
    "linkage_list=[\"average\",\"single\"]\n",
    "affinity_list=[\"euclidean\",\"manhattan\",\"cosine\"]\n",
    "n=np.arange(2,20)\n",
    "best=-1\n",
    "best_affinity=\" \"\n",
    "best_n=1\n",
    "best_linkage= \" \"\n",
    "model = AgglomerativeClustering(n_clusters=7, linkage=\"average\")\n",
    "model = model.fit(df)\n",
    "silhouette=silhouette_score(df,model.labels_)#,metric='euclidean')\n",
    "s.append(silhouette)\n",
    "model = AgglomerativeClustering(n_clusters=4, linkage=\"single\")\n",
    "model = model.fit(df)\n",
    "silhouette=silhouette_score(df,model.labels_)#,metric='euclidean')\n",
    "s.append(silhouette)\n"
   ]
  },
  {
   "cell_type": "code",
   "execution_count": 21,
   "metadata": {},
   "outputs": [
    {
     "data": {
      "text/plain": [
       "[0.7901132585249814, 0.864376744160006]"
      ]
     },
     "execution_count": 21,
     "metadata": {},
     "output_type": "execute_result"
    }
   ],
   "source": [
    "s"
   ]
  },
  {
   "cell_type": "markdown",
   "metadata": {
    "id": "2Kgd638SzVnO"
   },
   "source": [
    "Choose the optimal K and calculate the silhouette score for the best model."
   ]
  },
  {
   "cell_type": "code",
   "execution_count": 22,
   "metadata": {
    "id": "Skg-bkmUzK02"
   },
   "outputs": [],
   "source": [
    "#Since the silhouette score of the second model is higher than the first model, we can say that the second model is better than the first model. Therefore, the best model is the second model."
   ]
  },
  {
   "cell_type": "markdown",
   "metadata": {},
   "source": [
    "## DBSCAN"
   ]
  },
  {
   "cell_type": "markdown",
   "metadata": {
    "id": "wXwVWhKZLBRq"
   },
   "source": [
    "Find the optimal DBSCAN model."
   ]
  },
  {
   "cell_type": "code",
   "execution_count": 40,
   "metadata": {},
   "outputs": [
    {
     "name": "stdout",
     "output_type": "stream",
     "text": [
      "{0, 1, 2, 3, -1}\n"
     ]
    }
   ],
   "source": [
    "from sklearn.cluster import DBSCAN\n",
    "\n",
    "dbscan = DBSCAN(eps=3000, min_samples=5)  # Adjust based on the k-distance plot\n",
    "cluster_labels = dbscan.fit_predict(df)\n",
    "print(set(cluster_labels))  # Check unique cluster labels\n"
   ]
  },
  {
   "cell_type": "code",
   "execution_count": 41,
   "metadata": {},
   "outputs": [
    {
     "name": "stdout",
     "output_type": "stream",
     "text": [
      "Silhouette Score: 0.6549040016081394\n"
     ]
    }
   ],
   "source": [
    "from sklearn.metrics import silhouette_score\n",
    "\n",
    "# Remove noise points (-1) before computing the score\n",
    "valid_points = df[cluster_labels != -1]\n",
    "valid_labels = cluster_labels[cluster_labels != -1]\n",
    "\n",
    "# Compute Silhouette Score\n",
    "if len(set(valid_labels)) > 1:  # Ensure at least 2 clusters exist\n",
    "    score = silhouette_score(valid_points, valid_labels)\n",
    "    print(f\"Silhouette Score: {score}\")\n",
    "else:\n",
    "    print(\"Silhouette score cannot be computed (only one cluster found).\")\n"
   ]
  },
  {
   "cell_type": "code",
   "execution_count": 42,
   "metadata": {},
   "outputs": [
    {
     "name": "stdout",
     "output_type": "stream",
     "text": [
      "{0, 1, 2, -1}\n"
     ]
    }
   ],
   "source": [
    "from sklearn.cluster import DBSCAN\n",
    "\n",
    "dbscan = DBSCAN(eps=30, min_samples=5)  # Adjust based on the k-distance plot\n",
    "cluster_labels2 = dbscan.fit_predict(df)\n",
    "print(set(cluster_labels2))  # Check unique cluster labels"
   ]
  },
  {
   "cell_type": "code",
   "execution_count": 43,
   "metadata": {},
   "outputs": [
    {
     "name": "stdout",
     "output_type": "stream",
     "text": [
      "Silhouette Score: 0.7691451587035614\n"
     ]
    }
   ],
   "source": [
    "from sklearn.metrics import silhouette_score\n",
    "\n",
    "# Remove noise points (-1) before computing the score\n",
    "valid_points = df[cluster_labels2 != -1]\n",
    "valid_labels = cluster_labels2[cluster_labels2 != -1]\n",
    "\n",
    "# Compute Silhouette Score\n",
    "if len(set(valid_labels)) > 1:  # Ensure at least 2 clusters exist\n",
    "    score = silhouette_score(valid_points, valid_labels)\n",
    "    print(f\"Silhouette Score: {score}\")\n",
    "else:\n",
    "    print(\"Silhouette score cannot be computed (only one cluster found).\")\n"
   ]
  },
  {
   "cell_type": "code",
   "execution_count": null,
   "metadata": {},
   "outputs": [],
   "source": [
    "#Since the silhouette score of the first model is higher than the second model, we can say that the second model is better than the first model. Therefore, the best model is the second model. and also because the epsilon value is 30, it is better and more reasonable than the first model."
   ]
  },
  {
   "cell_type": "markdown",
   "metadata": {
    "id": "ik0Kax6TzylF"
   },
   "source": [
    "Find the parameters that optimize the performance of your model and calculate the silhouette score."
   ]
  },
  {
   "cell_type": "code",
   "execution_count": null,
   "metadata": {
    "id": "dblysF8Q0FfT"
   },
   "outputs": [],
   "source": []
  },
  {
   "cell_type": "markdown",
   "metadata": {},
   "source": [
    "## Result Interpretation and Discussion"
   ]
  },
  {
   "cell_type": "markdown",
   "metadata": {
    "id": "LVpmCzQiLieK"
   },
   "source": [
    "Which model was chosen? Why was it chosen and based on what?"
   ]
  },
  {
   "cell_type": "code",
   "execution_count": null,
   "metadata": {},
   "outputs": [],
   "source": [
    "# from my pount of view, the best model is the agglomerative model because it has the highest silhouette score and the number of clusters is better which is 4."
   ]
  }
 ],
 "metadata": {
  "colab": {
   "provenance": []
  },
  "kernelspec": {
   "display_name": "Python 3",
   "language": "python",
   "name": "python3"
  },
  "language_info": {
   "codemirror_mode": {
    "name": "ipython",
    "version": 3
   },
   "file_extension": ".py",
   "mimetype": "text/x-python",
   "name": "python",
   "nbconvert_exporter": "python",
   "pygments_lexer": "ipython3",
   "version": "3.11.9"
  }
 },
 "nbformat": 4,
 "nbformat_minor": 1
}
